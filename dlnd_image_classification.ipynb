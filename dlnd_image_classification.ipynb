{
 "cells": [
  {
   "cell_type": "markdown",
   "metadata": {
    "collapsed": true
   },
   "source": [
    "# Image Classification\n",
    "In this project, you'll classify images from the [CIFAR-10 dataset](https://www.cs.toronto.edu/~kriz/cifar.html).  The dataset consists of airplanes, dogs, cats, and other objects. You'll preprocess the images, then train a convolutional neural network on all the samples. The images need to be normalized and the labels need to be one-hot encoded.  You'll get to apply what you learned and build a convolutional, max pooling, dropout, and fully connected layers.  At the end, you'll get to see your neural network's predictions on the sample images.\n",
    "## Get the Data\n",
    "Run the following cell to download the [CIFAR-10 dataset for python](https://www.cs.toronto.edu/~kriz/cifar-10-python.tar.gz)."
   ]
  },
  {
   "cell_type": "code",
   "execution_count": 1,
   "metadata": {},
   "outputs": [
    {
     "name": "stdout",
     "output_type": "stream",
     "text": [
      "All files found!\n"
     ]
    }
   ],
   "source": [
    "\"\"\"\n",
    "DON'T MODIFY ANYTHING IN THIS CELL THAT IS BELOW THIS LINE\n",
    "\"\"\"\n",
    "from urllib.request import urlretrieve\n",
    "from os.path import isfile, isdir\n",
    "from tqdm import tqdm\n",
    "import problem_unittests as tests\n",
    "import tarfile\n",
    "\n",
    "cifar10_dataset_folder_path = 'cifar-10-batches-py'\n",
    "\n",
    "# Use Floyd's cifar-10 dataset if present\n",
    "floyd_cifar10_location = '/input/cifar-10/python.tar.gz'\n",
    "if isfile(floyd_cifar10_location):\n",
    "    tar_gz_path = floyd_cifar10_location\n",
    "else:\n",
    "    tar_gz_path = 'cifar-10-python.tar.gz'\n",
    "\n",
    "class DLProgress(tqdm):\n",
    "    last_block = 0\n",
    "\n",
    "    def hook(self, block_num=1, block_size=1, total_size=None):\n",
    "        self.total = total_size\n",
    "        self.update((block_num - self.last_block) * block_size)\n",
    "        self.last_block = block_num\n",
    "\n",
    "if not isfile(tar_gz_path):\n",
    "    with DLProgress(unit='B', unit_scale=True, miniters=1, desc='CIFAR-10 Dataset') as pbar:\n",
    "        urlretrieve(\n",
    "            'https://www.cs.toronto.edu/~kriz/cifar-10-python.tar.gz',\n",
    "            tar_gz_path,\n",
    "            pbar.hook)\n",
    "\n",
    "if not isdir(cifar10_dataset_folder_path):\n",
    "    with tarfile.open(tar_gz_path) as tar:\n",
    "        tar.extractall()\n",
    "        tar.close()\n",
    "\n",
    "\n",
    "tests.test_folder_path(cifar10_dataset_folder_path)"
   ]
  },
  {
   "cell_type": "markdown",
   "metadata": {},
   "source": [
    "## Explore the Data\n",
    "The dataset is broken into batches to prevent your machine from running out of memory.  The CIFAR-10 dataset consists of 5 batches, named `data_batch_1`, `data_batch_2`, etc.. Each batch contains the labels and images that are one of the following:\n",
    "* airplane\n",
    "* automobile\n",
    "* bird\n",
    "* cat\n",
    "* deer\n",
    "* dog\n",
    "* frog\n",
    "* horse\n",
    "* ship\n",
    "* truck\n",
    "\n",
    "Understanding a dataset is part of making predictions on the data.  Play around with the code cell below by changing the `batch_id` and `sample_id`. The `batch_id` is the id for a batch (1-5). The `sample_id` is the id for a image and label pair in the batch.\n",
    "\n",
    "Ask yourself \"What are all possible labels?\", \"What is the range of values for the image data?\", \"Are the labels in order or random?\".  Answers to questions like these will help you preprocess the data and end up with better predictions."
   ]
  },
  {
   "cell_type": "code",
   "execution_count": 2,
   "metadata": {},
   "outputs": [
    {
     "name": "stdout",
     "output_type": "stream",
     "text": [
      "\n",
      "Stats of batch 1:\n",
      "Samples: 10000\n",
      "Label Counts: {0: 1005, 1: 974, 2: 1032, 3: 1016, 4: 999, 5: 937, 6: 1030, 7: 1001, 8: 1025, 9: 981}\n",
      "First 20 Labels: [6, 9, 9, 4, 1, 1, 2, 7, 8, 3, 4, 7, 7, 2, 9, 9, 9, 3, 2, 6]\n",
      "\n",
      "Example of Image 5:\n",
      "Image - Min Value: 0 Max Value: 252\n",
      "Image - Shape: (32, 32, 3)\n",
      "Label - Label Id: 1 Name: automobile\n"
     ]
    },
    {
     "data": {
      "image/png": "[encoded data removed]",
      "text/plain": [
       "<matplotlib.figure.Figure at 0x1436c7d44e0>"
      ]
     },
     "metadata": {
      "image/png": {
       "height": 250,
       "width": 253
      }
     },
     "output_type": "display_data"
    }
   ],
   "source": [
    "%matplotlib inline\n",
    "%config InlineBackend.figure_format = 'retina'\n",
    "\n",
    "import helper\n",
    "import numpy as np\n",
    "\n",
    "# Explore the dataset\n",
    "batch_id = 1\n",
    "sample_id = 5\n",
    "helper.display_stats(cifar10_dataset_folder_path, batch_id, sample_id)"
   ]
  },
  {
   "cell_type": "markdown",
   "metadata": {},
   "source": [
    "## Implement Preprocess Functions\n",
    "### Normalize\n",
    "In the cell below, implement the `normalize` function to take in image data, `x`, and return it as a normalized Numpy array. The values should be in the range of 0 to 1, inclusive.  The return object should be the same shape as `x`."
   ]
  },
  {
   "cell_type": "code",
   "execution_count": 3,
   "metadata": {},
   "outputs": [
    {
     "name": "stdout",
     "output_type": "stream",
     "text": [
      "Tests Passed\n"
     ]
    }
   ],
   "source": [
    "def normalize(x):\n",
    "    \"\"\"\n",
    "    Normalize a list of sample image data in the range of 0 to 1\n",
    "    : x: List of image data.  The image shape is (32, 32, 3)\n",
    "    : return: Numpy array of normalize data\n",
    "    \"\"\"\n",
    "    # TODO: Implement Function\n",
    "    return x/255\n",
    "\n",
    "\n",
    "\"\"\"\n",
    "DON'T MODIFY ANYTHING IN THIS CELL THAT IS BELOW THIS LINE\n",
    "\"\"\"\n",
    "tests.test_normalize(normalize)"
   ]
  },
  {
   "cell_type": "markdown",
   "metadata": {},
   "source": [
    "### One-hot encode\n",
    "Just like the previous code cell, you'll be implementing a function for preprocessing.  This time, you'll implement the `one_hot_encode` function. The input, `x`, are a list of labels.  Implement the function to return the list of labels as One-Hot encoded Numpy array.  The possible values for labels are 0 to 9. The one-hot encoding function should return the same encoding for each value between each call to `one_hot_encode`.  Make sure to save the map of encodings outside the function.\n",
    "\n",
    "Hint: Don't reinvent the wheel."
   ]
  },
  {
   "cell_type": "code",
   "execution_count": 4,
   "metadata": {},
   "outputs": [
    {
     "name": "stdout",
     "output_type": "stream",
     "text": [
      "Tests Passed\n"
     ]
    }
   ],
   "source": [
    "from sklearn.preprocessing import LabelBinarizer\n",
    "encoder=LabelBinarizer()\n",
    "encoder.fit(range(10))\n",
    "def one_hot_encode(x):\n",
    "    \"\"\"\n",
    "    One hot encode a list of sample labels. Return a one-hot encoded vector for each label.\n",
    "    : x: List of sample Labels\n",
    "    : return: Numpy array of one-hot encoded labels\n",
    "    \"\"\"\n",
    "    # TODO: Implement Function\n",
    "    labels=encoder.transform(x)\n",
    "    return labels\n",
    "\n",
    "\n",
    "\"\"\"\n",
    "DON'T MODIFY ANYTHING IN THIS CELL THAT IS BELOW THIS LINE\n",
    "\"\"\"\n",
    "tests.test_one_hot_encode(one_hot_encode)"
   ]
  },
  {
   "cell_type": "markdown",
   "metadata": {},
   "source": [
    "### Randomize Data\n",
    "As you saw from exploring the data above, the order of the samples are randomized.  It doesn't hurt to randomize it again, but you don't need to for this dataset."
   ]
  },
  {
   "cell_type": "markdown",
   "metadata": {},
   "source": [
    "## Preprocess all the data and save it\n",
    "Running the code cell below will preprocess all the CIFAR-10 data and save it to file. The code below also uses 10% of the training data for validation."
   ]
  },
  {
   "cell_type": "code",
   "execution_count": 5,
   "metadata": {
    "collapsed": true
   },
   "outputs": [],
   "source": [
    "\"\"\"\n",
    "DON'T MODIFY ANYTHING IN THIS CELL\n",
    "\"\"\"\n",
    "# Preprocess Training, Validation, and Testing Data\n",
    "helper.preprocess_and_save_data(cifar10_dataset_folder_path, normalize, one_hot_encode)"
   ]
  },
  {
   "cell_type": "markdown",
   "metadata": {},
   "source": [
    "# Check Point\n",
    "This is your first checkpoint.  If you ever decide to come back to this notebook or have to restart the notebook, you can start from here.  The preprocessed data has been saved to disk."
   ]
  },
  {
   "cell_type": "code",
   "execution_count": 6,
   "metadata": {
    "collapsed": true
   },
   "outputs": [],
   "source": [
    "\"\"\"\n",
    "DON'T MODIFY ANYTHING IN THIS CELL\n",
    "\"\"\"\n",
    "import pickle\n",
    "import problem_unittests as tests\n",
    "import helper\n",
    "\n",
    "# Load the Preprocessed Validation data\n",
    "valid_features, valid_labels = pickle.load(open('preprocess_validation.p', mode='rb'))"
   ]
  },
  {
   "cell_type": "markdown",
   "metadata": {},
   "source": [
    "## Build the network\n",
    "For the neural network, you'll build each layer into a function.  Most of the code you've seen has been outside of functions. To test your code more thoroughly, we require that you put each layer in a function.  This allows us to give you better feedback and test for simple mistakes using our unittests before you submit your project.\n",
    "\n",
    ">**Note:** If you're finding it hard to dedicate enough time for this course each week, we've provided a small shortcut to this part of the project. In the next couple of problems, you'll have the option to use classes from the [TensorFlow Layers](https://www.tensorflow.org/api_docs/python/tf/layers) or [TensorFlow Layers (contrib)](https://www.tensorflow.org/api_guides/python/contrib.layers) packages to build each layer, except the layers you build in the \"Convolutional and Max Pooling Layer\" section.  TF Layers is similar to Keras's and TFLearn's abstraction to layers, so it's easy to pickup.\n",
    "\n",
    ">However, if you would like to get the most out of this course, try to solve all the problems _without_ using anything from the TF Layers packages. You **can** still use classes from other packages that happen to have the same name as ones you find in TF Layers! For example, instead of using the TF Layers version of the `conv2d` class, [tf.layers.conv2d](https://www.tensorflow.org/api_docs/python/tf/layers/conv2d), you would want to use the TF Neural Network version of `conv2d`, [tf.nn.conv2d](https://www.tensorflow.org/api_docs/python/tf/nn/conv2d). \n",
    "\n",
    "Let's begin!\n",
    "\n",
    "### Input\n",
    "The neural network needs to read the image data, one-hot encoded labels, and dropout keep probability. Implement the following functions\n",
    "* Implement `neural_net_image_input`\n",
    " * Return a [TF Placeholder](https://www.tensorflow.org/api_docs/python/tf/placeholder)\n",
    " * Set the shape using `image_shape` with batch size set to `None`.\n",
    " * Name the TensorFlow placeholder \"x\" using the TensorFlow `name` parameter in the [TF Placeholder](https://www.tensorflow.org/api_docs/python/tf/placeholder).\n",
    "* Implement `neural_net_label_input`\n",
    " * Return a [TF Placeholder](https://www.tensorflow.org/api_docs/python/tf/placeholder)\n",
    " * Set the shape using `n_classes` with batch size set to `None`.\n",
    " * Name the TensorFlow placeholder \"y\" using the TensorFlow `name` parameter in the [TF Placeholder](https://www.tensorflow.org/api_docs/python/tf/placeholder).\n",
    "* Implement `neural_net_keep_prob_input`\n",
    " * Return a [TF Placeholder](https://www.tensorflow.org/api_docs/python/tf/placeholder) for dropout keep probability.\n",
    " * Name the TensorFlow placeholder \"keep_prob\" using the TensorFlow `name` parameter in the [TF Placeholder](https://www.tensorflow.org/api_docs/python/tf/placeholder).\n",
    "\n",
    "These names will be used at the end of the project to load your saved model.\n",
    "\n",
    "Note: `None` for shapes in TensorFlow allow for a dynamic size."
   ]
  },
  {
   "cell_type": "code",
   "execution_count": 7,
   "metadata": {},
   "outputs": [
    {
     "name": "stdout",
     "output_type": "stream",
     "text": [
      "Image Input Tests Passed.\n",
      "Label Input Tests Passed.\n",
      "Keep Prob Tests Passed.\n"
     ]
    }
   ],
   "source": [
    "import tensorflow as tf\n",
    "\n",
    "def neural_net_image_input(image_shape):\n",
    "    \"\"\"\n",
    "    Return a Tensor for a batch of image input\n",
    "    : image_shape: Shape of the images\n",
    "    : return: Tensor for image input.\n",
    "    \"\"\"\n",
    "    image_width, image_height, color_channels = image_shape\n",
    "    x = tf.placeholder(\n",
    "    tf.float32,\n",
    "    shape=[None, image_width, image_height, color_channels], name='x')\n",
    "    return x\n",
    "\n",
    "\n",
    "def neural_net_label_input(n_classes):\n",
    "    \"\"\"\n",
    "    Return a Tensor for a batch of label input\n",
    "    : n_classes: Number of classes\n",
    "    : return: Tensor for label input.\n",
    "    \"\"\"\n",
    "    y=tf.placeholder(\n",
    "    tf.float32,\n",
    "    shape=[None,n_classes],name='y')\n",
    "    return y\n",
    "\n",
    "\n",
    "def neural_net_keep_prob_input():\n",
    "    \"\"\"\n",
    "    Return a Tensor for keep probability\n",
    "    : return: Tensor for keep probability.\n",
    "    \"\"\"\n",
    "    k=tf.placeholder(tf.float32,name='keep_prob')\n",
    "    return k\n",
    "\n",
    "\n",
    "\"\"\"\n",
    "DON'T MODIFY ANYTHING IN THIS CELL THAT IS BELOW THIS LINE\n",
    "\"\"\"\n",
    "tf.reset_default_graph()\n",
    "tests.test_nn_image_inputs(neural_net_image_input)\n",
    "tests.test_nn_label_inputs(neural_net_label_input)\n",
    "tests.test_nn_keep_prob_inputs(neural_net_keep_prob_input)"
   ]
  },
  {
   "cell_type": "markdown",
   "metadata": {},
   "source": [
    "### Convolution and Max Pooling Layer\n",
    "Convolution layers have a lot of success with images. For this code cell, you should implement the function `conv2d_maxpool` to apply convolution then max pooling:\n",
    "* Create the weight and bias using `conv_ksize`, `conv_num_outputs` and the shape of `x_tensor`.\n",
    "* Apply a convolution to `x_tensor` using weight and `conv_strides`.\n",
    " * We recommend you use same padding, but you're welcome to use any padding.\n",
    "* Add bias\n",
    "* Add a nonlinear activation to the convolution.\n",
    "* Apply Max Pooling using `pool_ksize` and `pool_strides`.\n",
    " * We recommend you use same padding, but you're welcome to use any padding.\n",
    "\n",
    "**Note:** You **can't** use [TensorFlow Layers](https://www.tensorflow.org/api_docs/python/tf/layers) or [TensorFlow Layers (contrib)](https://www.tensorflow.org/api_guides/python/contrib.layers) for **this** layer, but you can still use TensorFlow's [Neural Network](https://www.tensorflow.org/api_docs/python/tf/nn) package. You may still use the shortcut option for all the **other** layers."
   ]
  },
  {
   "cell_type": "code",
   "execution_count": 8,
   "metadata": {},
   "outputs": [
    {
     "name": "stdout",
     "output_type": "stream",
     "text": [
      "Tests Passed\n"
     ]
    }
   ],
   "source": [
    "def conv2d_maxpool(x_tensor, conv_num_outputs, conv_ksize, conv_strides, pool_ksize, pool_strides):\n",
    "    \"\"\"\n",
    "    Apply convolution then max pooling to x_tensor\n",
    "    :param x_tensor: TensorFlow Tensor\n",
    "    :param conv_num_outputs: Number of outputs for the convolutional layer\n",
    "    :param conv_ksize: kernal size 2-D Tuple for the convolutional layer\n",
    "    :param conv_strides: Stride 2-D Tuple for convolution\n",
    "    :param pool_ksize: kernal size 2-D Tuple for pool\n",
    "    :param pool_strides: Stride 2-D Tuple for pool\n",
    "    : return: A tensor that represents convolution and max pooling of x_tensor\n",
    "    \"\"\"\n",
    "    # TODO: Implement Function\n",
    "    filter_size_width,filter_size_height=conv_ksize\n",
    "    color_channels=x_tensor.shape.as_list()[-1]\n",
    "    \n",
    "    weight=tf.Variable(\n",
    "        tf.truncated_normal([filter_size_width,filter_size_height,color_channels,conv_num_outputs],stddev=0.01))\n",
    "    bias=tf.Variable(tf.zeros(conv_num_outputs))\n",
    "    \n",
    "    a,b=conv_strides\n",
    "    full_conv_strides=[1,a,b,1]\n",
    "    conv_layer=tf.nn.conv2d(x_tensor,weight,strides=full_conv_strides,padding='SAME')\n",
    "    conv_layer=tf.nn.bias_add(conv_layer,bias)\n",
    "    conv_layer=tf.nn.relu(conv_layer)\n",
    "    \n",
    "    a,b=pool_strides\n",
    "    full_pool_strides=[1,a,b,1]\n",
    "    a,b=pool_ksize\n",
    "    full_pool_ksize=[1,a,b,1]\n",
    "    conv_layer=tf.nn.max_pool(\n",
    "        conv_layer,\n",
    "        ksize=full_pool_ksize,\n",
    "        strides=full_pool_strides,\n",
    "        padding='SAME')\n",
    "    return conv_layer\n",
    "\n",
    "\n",
    "\"\"\"\n",
    "DON'T MODIFY ANYTHING IN THIS CELL THAT IS BELOW THIS LINE\n",
    "\"\"\"\n",
    "tests.test_con_pool(conv2d_maxpool)"
   ]
  },
  {
   "cell_type": "markdown",
   "metadata": {},
   "source": [
    "### Flatten Layer\n",
    "Implement the `flatten` function to change the dimension of `x_tensor` from a 4-D tensor to a 2-D tensor.  The output should be the shape (*Batch Size*, *Flattened Image Size*). Shortcut option: you can use classes from the [TensorFlow Layers](https://www.tensorflow.org/api_docs/python/tf/layers) or [TensorFlow Layers (contrib)](https://www.tensorflow.org/api_guides/python/contrib.layers) packages for this layer. For more of a challenge, only use other TensorFlow packages."
   ]
  },
  {
   "cell_type": "code",
   "execution_count": 9,
   "metadata": {},
   "outputs": [
    {
     "name": "stdout",
     "output_type": "stream",
     "text": [
      "Tests Passed\n"
     ]
    }
   ],
   "source": [
    "def flatten(x_tensor):\n",
    "    \"\"\"\n",
    "    Flatten x_tensor to (Batch Size, Flattened Image Size)\n",
    "    : x_tensor: A tensor of size (Batch Size, ...), where ... are the image dimensions.\n",
    "    : return: A tensor of size (Batch Size, Flattened Image Size).\n",
    "    \"\"\"\n",
    "    # TODO: Implement Function\n",
    "    shape=x_tensor.shape.as_list()\n",
    "    new_shape=np.prod(shape[1:])\n",
    "    flat=tf.reshape(x_tensor,[-1,new_shape])\n",
    "    return flat\n",
    "\n",
    "\n",
    "\"\"\"\n",
    "DON'T MODIFY ANYTHING IN THIS CELL THAT IS BELOW THIS LINE\n",
    "\"\"\"\n",
    "tests.test_flatten(flatten)"
   ]
  },
  {
   "cell_type": "markdown",
   "metadata": {},
   "source": [
    "### Fully-Connected Layer\n",
    "Implement the `fully_conn` function to apply a fully connected layer to `x_tensor` with the shape (*Batch Size*, *num_outputs*). Shortcut option: you can use classes from the [TensorFlow Layers](https://www.tensorflow.org/api_docs/python/tf/layers) or [TensorFlow Layers (contrib)](https://www.tensorflow.org/api_guides/python/contrib.layers) packages for this layer. For more of a challenge, only use other TensorFlow packages."
   ]
  },
  {
   "cell_type": "code",
   "execution_count": 10,
   "metadata": {},
   "outputs": [
    {
     "name": "stdout",
     "output_type": "stream",
     "text": [
      "Tests Passed\n"
     ]
    }
   ],
   "source": [
    "def fully_conn(x_tensor, num_outputs):\n",
    "    \"\"\"\n",
    "    Apply a fully connected layer to x_tensor using weight and bias\n",
    "    : x_tensor: A 2-D tensor where the first dimension is batch size.\n",
    "    : num_outputs: The number of output that the new tensor should be.\n",
    "    : return: A 2-D tensor where the second dimension is num_outputs.\n",
    "    \"\"\"\n",
    "    # TODO: Implement Function\n",
    "    weight=tf.Variable(tf.truncated_normal([x_tensor.shape.as_list()[-1],num_outputs],stddev=0.01))\n",
    "    bias=tf.Variable(tf.zeros(num_outputs))\n",
    "    fully_conn=tf.add(tf.matmul(x_tensor,weight),bias)\n",
    "    fully_conn=tf.nn.relu(fully_conn)\n",
    "    return fully_conn\n",
    "\n",
    "\n",
    "\"\"\"\n",
    "DON'T MODIFY ANYTHING IN THIS CELL THAT IS BELOW THIS LINE\n",
    "\"\"\"\n",
    "tests.test_fully_conn(fully_conn)"
   ]
  },
  {
   "cell_type": "markdown",
   "metadata": {},
   "source": [
    "### Output Layer\n",
    "Implement the `output` function to apply a fully connected layer to `x_tensor` with the shape (*Batch Size*, *num_outputs*). Shortcut option: you can use classes from the [TensorFlow Layers](https://www.tensorflow.org/api_docs/python/tf/layers) or [TensorFlow Layers (contrib)](https://www.tensorflow.org/api_guides/python/contrib.layers) packages for this layer. For more of a challenge, only use other TensorFlow packages.\n",
    "\n",
    "**Note:** Activation, softmax, or cross entropy should **not** be applied to this."
   ]
  },
  {
   "cell_type": "code",
   "execution_count": 11,
   "metadata": {},
   "outputs": [
    {
     "name": "stdout",
     "output_type": "stream",
     "text": [
      "Tests Passed\n"
     ]
    }
   ],
   "source": [
    "def output(x_tensor, num_outputs):\n",
    "    \"\"\"\n",
    "    Apply a output layer to x_tensor using weight and bias\n",
    "    : x_tensor: A 2-D tensor where the first dimension is batch size.\n",
    "    : num_outputs: The number of output that the new tensor should be.\n",
    "    : return: A 2-D tensor where the second dimension is num_outputs.\n",
    "    \"\"\"\n",
    "    # TODO: Implement Function\n",
    "    weight=tf.Variable(tf.truncated_normal([x_tensor.shape.as_list()[-1],num_outputs],stddev=0.01))\n",
    "    bias=tf.Variable(tf.zeros(num_outputs))\n",
    "    out=tf.add(tf.matmul(x_tensor,weight),bias)\n",
    "    return out\n",
    "\n",
    "\n",
    "\"\"\"\n",
    "DON'T MODIFY ANYTHING IN THIS CELL THAT IS BELOW THIS LINE\n",
    "\"\"\"\n",
    "tests.test_output(output)"
   ]
  },
  {
   "cell_type": "markdown",
   "metadata": {},
   "source": [
    "### Create Convolutional Model\n",
    "Implement the function `conv_net` to create a convolutional neural network model. The function takes in a batch of images, `x`, and outputs logits.  Use the layers you created above to create this model:\n",
    "\n",
    "* Apply 1, 2, or 3 Convolution and Max Pool layers\n",
    "* Apply a Flatten Layer\n",
    "* Apply 1, 2, or 3 Fully Connected Layers\n",
    "* Apply an Output Layer\n",
    "* Return the output\n",
    "* Apply [TensorFlow's Dropout](https://www.tensorflow.org/api_docs/python/tf/nn/dropout) to one or more layers in the model using `keep_prob`. "
   ]
  },
  {
   "cell_type": "code",
   "execution_count": 12,
   "metadata": {},
   "outputs": [
    {
     "name": "stdout",
     "output_type": "stream",
     "text": [
      "Neural Network Built!\n"
     ]
    }
   ],
   "source": [
    "def conv_net(x, keep_prob):\n",
    "    \"\"\"\n",
    "    Create a convolutional neural network model\n",
    "    : x: Placeholder tensor that holds image data.\n",
    "    : keep_prob: Placeholder tensor that hold dropout keep probability.\n",
    "    : return: Tensor that represents logits\n",
    "    \"\"\"\n",
    "    # TODO: Apply 1, 2, or 3 Convolution and Max Pool layers\n",
    "    #    Play around with different number of outputs, kernel size and stride\n",
    "    # Function Definition from Above:\n",
    "    #    conv2d_maxpool(x_tensor, conv_num_outputs, conv_ksize, conv_strides, pool_ksize, pool_strides)\n",
    "    conv_num_outputs = 32\n",
    "    conv_ksize = (3,3)\n",
    "    conv_strides = (1,1)\n",
    "    pool_ksize = (2,2)\n",
    "    pool_strides = (2,2)\n",
    "    logits = conv2d_maxpool(x, conv_num_outputs, conv_ksize, conv_strides, pool_ksize, pool_strides)\n",
    "    \n",
    "    conv_num_outputs = 64\n",
    "    conv_ksize = (3,3)\n",
    "    conv_strides = (1,1)\n",
    "    pool_ksize = (2,2)\n",
    "    pool_strides = (2,2)\n",
    "    logits = conv2d_maxpool(logits, conv_num_outputs, conv_ksize, conv_strides, pool_ksize, pool_strides)\n",
    "\n",
    "    conv_num_outputs = 128\n",
    "    conv_ksize = (3,3)\n",
    "    conv_strides = (1,1)\n",
    "    pool_ksize = (2,2)\n",
    "    pool_strides = (2,2)\n",
    "    logits = conv2d_maxpool(logits, conv_num_outputs, conv_ksize, conv_strides, pool_ksize, pool_strides)\n",
    "\n",
    "    # TODO: Apply a Flatten Layer\n",
    "    # Function Definition from Above:\n",
    "    #   flatten(x_tensor)\n",
    "    logits=flatten(logits)\n",
    "    logits=tf.nn.dropout(logits,keep_prob)\n",
    "\n",
    "    # TODO: Apply 1, 2, or 3 Fully Connected Layers\n",
    "    #    Play around with different number of outputs\n",
    "    # Function Definition from Above:\n",
    "    #   fully_conn(x_tensor, num_outputs)\n",
    "    num_outputs = 512\n",
    "    logits = fully_conn(logits, num_outputs)  \n",
    "    logits=tf.nn.dropout(logits, keep_prob)\n",
    "    # TODO: Apply an Output Layer\n",
    "    #    Set this to the number of classes\n",
    "    # Function Definition from Above:\n",
    "    #   output(x_tensor, num_outputs)\n",
    "    num_outputs = 10\n",
    "    logits = output(logits, num_outputs)\n",
    "    \n",
    "    # TODO: return output\n",
    "    return logits\n",
    "\n",
    "\n",
    "\"\"\"\n",
    "DON'T MODIFY ANYTHING IN THIS CELL THAT IS BELOW THIS LINE\n",
    "\"\"\"\n",
    "\n",
    "##############################\n",
    "## Build the Neural Network ##\n",
    "##############################\n",
    "\n",
    "# Remove previous weights, bias, inputs, etc..\n",
    "tf.reset_default_graph()\n",
    "\n",
    "# Inputs\n",
    "x = neural_net_image_input((32, 32, 3))\n",
    "y = neural_net_label_input(10)\n",
    "keep_prob = neural_net_keep_prob_input()\n",
    "\n",
    "# Model\n",
    "logits = conv_net(x, keep_prob)\n",
    "\n",
    "# Name logits Tensor, so that is can be loaded from disk after training\n",
    "logits = tf.identity(logits, name='logits')\n",
    "\n",
    "# Loss and Optimizer\n",
    "cost = tf.reduce_mean(tf.nn.softmax_cross_entropy_with_logits(logits=logits, labels=y))\n",
    "optimizer = tf.train.AdamOptimizer().minimize(cost)\n",
    "\n",
    "# Accuracy\n",
    "correct_pred = tf.equal(tf.argmax(logits, 1), tf.argmax(y, 1))\n",
    "accuracy = tf.reduce_mean(tf.cast(correct_pred, tf.float32), name='accuracy')\n",
    "\n",
    "tests.test_conv_net(conv_net)"
   ]
  },
  {
   "cell_type": "markdown",
   "metadata": {},
   "source": [
    "## Train the Neural Network\n",
    "### Single Optimization\n",
    "Implement the function `train_neural_network` to do a single optimization.  The optimization should use `optimizer` to optimize in `session` with a `feed_dict` of the following:\n",
    "* `x` for image input\n",
    "* `y` for labels\n",
    "* `keep_prob` for keep probability for dropout\n",
    "\n",
    "This function will be called for each batch, so `tf.global_variables_initializer()` has already been called.\n",
    "\n",
    "Note: Nothing needs to be returned. This function is only optimizing the neural network."
   ]
  },
  {
   "cell_type": "code",
   "execution_count": 13,
   "metadata": {},
   "outputs": [
    {
     "name": "stdout",
     "output_type": "stream",
     "text": [
      "Tests Passed\n"
     ]
    }
   ],
   "source": [
    "def train_neural_network(session, optimizer, keep_probability, feature_batch, label_batch):\n",
    "    \"\"\"\n",
    "    Optimize the session on a batch of images and labels\n",
    "    : session: Current TensorFlow session\n",
    "    : optimizer: TensorFlow optimizer function\n",
    "    : keep_probability: keep probability\n",
    "    : feature_batch: Batch of Numpy image data\n",
    "    : label_batch: Batch of Numpy label data\n",
    "    \"\"\"\n",
    "    # TODO: Implement Function\n",
    "    session.run(optimizer,feed_dict={\n",
    "            x:feature_batch,\n",
    "            y:label_batch,\n",
    "            keep_prob:keep_probability})\n",
    "    pass\n",
    "\n",
    "\n",
    "\"\"\"\n",
    "DON'T MODIFY ANYTHING IN THIS CELL THAT IS BELOW THIS LINE\n",
    "\"\"\"\n",
    "tests.test_train_nn(train_neural_network)"
   ]
  },
  {
   "cell_type": "markdown",
   "metadata": {},
   "source": [
    "### Show Stats\n",
    "Implement the function `print_stats` to print loss and validation accuracy.  Use the global variables `valid_features` and `valid_labels` to calculate validation accuracy.  Use a keep probability of `1.0` to calculate the loss and validation accuracy."
   ]
  },
  {
   "cell_type": "code",
   "execution_count": 18,
   "metadata": {
    "collapsed": true
   },
   "outputs": [],
   "source": [
    "def print_stats(session, feature_batch, label_batch, cost, accuracy):\n",
    "    \"\"\"\n",
    "    Print information about loss and validation accuracy\n",
    "    : session: Current TensorFlow session\n",
    "    : feature_batch: Batch of Numpy image data\n",
    "    : label_batch: Batch of Numpy label data\n",
    "    : cost: TensorFlow cost function\n",
    "    : accuracy: TensorFlow accuracy function\n",
    "    \"\"\"\n",
    "    # TODO: Implement Function\n",
    "    traning_loss = session.run(cost, feed_dict={\n",
    "        x: feature_batch,\n",
    "        y: label_batch,\n",
    "        keep_prob: 1})\n",
    "    validation_accuracy = session.run(accuracy, feed_dict={\n",
    "        x: valid_features,\n",
    "        y: valid_labels,\n",
    "        keep_prob: 1})\n",
    "    print(\"training_loss: {}, validation_accuracy: {}\".format(traning_loss, validation_accuracy))\n",
    "    pass"
   ]
  },
  {
   "cell_type": "markdown",
   "metadata": {},
   "source": [
    "### Hyperparameters\n",
    "Tune the following parameters:\n",
    "* Set `epochs` to the number of iterations until the network stops learning or start overfitting\n",
    "* Set `batch_size` to the highest number that your machine has memory for.  Most people set them to common sizes of memory:\n",
    " * 64\n",
    " * 128\n",
    " * 256\n",
    " * ...\n",
    "* Set `keep_probability` to the probability of keeping a node using dropout"
   ]
  },
  {
   "cell_type": "code",
   "execution_count": 19,
   "metadata": {
    "collapsed": true
   },
   "outputs": [],
   "source": [
    "# TODO: Tune Parameters\n",
    "epochs = 20\n",
    "batch_size = 128\n",
    "keep_probability = 0.5"
   ]
  },
  {
   "cell_type": "markdown",
   "metadata": {},
   "source": [
    "### Train on a Single CIFAR-10 Batch\n",
    "Instead of training the neural network on all the CIFAR-10 batches of data, let's use a single batch. This should save time while you iterate on the model to get a better accuracy.  Once the final validation accuracy is 50% or greater, run the model on all the data in the next section."
   ]
  },
  {
   "cell_type": "code",
   "execution_count": 20,
   "metadata": {},
   "outputs": [
    {
     "name": "stdout",
     "output_type": "stream",
     "text": [
      "Checking the Training on a Single Batch...\n",
      "Epoch  1, CIFAR-10 Batch 1:  training_loss: 2.245975971221924, validation_accuracy: 0.22360000014305115\n",
      "Epoch  2, CIFAR-10 Batch 1:  training_loss: 2.163421869277954, validation_accuracy: 0.2842000126838684\n",
      "Epoch  3, CIFAR-10 Batch 1:  training_loss: 2.102700710296631, validation_accuracy: 0.29319998621940613\n",
      "Epoch  4, CIFAR-10 Batch 1:  training_loss: 2.0233750343322754, validation_accuracy: 0.32100000977516174\n",
      "Epoch  5, CIFAR-10 Batch 1:  training_loss: 1.9706077575683594, validation_accuracy: 0.352400004863739\n",
      "Epoch  6, CIFAR-10 Batch 1:  training_loss: 1.8295475244522095, validation_accuracy: 0.40220001339912415\n",
      "Epoch  7, CIFAR-10 Batch 1:  training_loss: 1.7019554376602173, validation_accuracy: 0.4174000024795532\n",
      "Epoch  8, CIFAR-10 Batch 1:  training_loss: 1.6393163204193115, validation_accuracy: 0.4311999976634979\n",
      "Epoch  9, CIFAR-10 Batch 1:  training_loss: 1.624153733253479, validation_accuracy: 0.4490000009536743\n",
      "Epoch 10, CIFAR-10 Batch 1:  training_loss: 1.5467761754989624, validation_accuracy: 0.4546000063419342\n",
      "Epoch 11, CIFAR-10 Batch 1:  training_loss: 1.558462381362915, validation_accuracy: 0.45879998803138733\n",
      "Epoch 12, CIFAR-10 Batch 1:  training_loss: 1.4906723499298096, validation_accuracy: 0.4708000123500824\n",
      "Epoch 13, CIFAR-10 Batch 1:  training_loss: 1.402498722076416, validation_accuracy: 0.48260000348091125\n",
      "Epoch 14, CIFAR-10 Batch 1:  training_loss: 1.37869393825531, validation_accuracy: 0.4864000082015991\n",
      "Epoch 15, CIFAR-10 Batch 1:  training_loss: 1.3005530834197998, validation_accuracy: 0.4970000088214874\n",
      "Epoch 16, CIFAR-10 Batch 1:  training_loss: 1.2083516120910645, validation_accuracy: 0.5\n",
      "Epoch 17, CIFAR-10 Batch 1:  training_loss: 1.1803810596466064, validation_accuracy: 0.5108000040054321\n",
      "Epoch 18, CIFAR-10 Batch 1:  training_loss: 1.1858808994293213, validation_accuracy: 0.5108000040054321\n",
      "Epoch 19, CIFAR-10 Batch 1:  training_loss: 1.113639235496521, validation_accuracy: 0.5238000154495239\n",
      "Epoch 20, CIFAR-10 Batch 1:  training_loss: 1.0782747268676758, validation_accuracy: 0.5293999910354614\n"
     ]
    }
   ],
   "source": [
    "\"\"\"\n",
    "DON'T MODIFY ANYTHING IN THIS CELL\n",
    "\"\"\"\n",
    "print('Checking the Training on a Single Batch...')\n",
    "with tf.Session() as sess:\n",
    "    # Initializing the variables\n",
    "    sess.run(tf.global_variables_initializer())\n",
    "    \n",
    "    # Training cycle\n",
    "    for epoch in range(epochs):\n",
    "        batch_i = 1\n",
    "        for batch_features, batch_labels in helper.load_preprocess_training_batch(batch_i, batch_size):\n",
    "            train_neural_network(sess, optimizer, keep_probability, batch_features, batch_labels)\n",
    "        print('Epoch {:>2}, CIFAR-10 Batch {}:  '.format(epoch + 1, batch_i), end='')\n",
    "        print_stats(sess, batch_features, batch_labels, cost, accuracy)"
   ]
  },
  {
   "cell_type": "markdown",
   "metadata": {},
   "source": [
    "### Fully Train the Model\n",
    "Now that you got a good accuracy with a single CIFAR-10 batch, try it with all five batches."
   ]
  },
  {
   "cell_type": "code",
   "execution_count": 21,
   "metadata": {},
   "outputs": [
    {
     "name": "stdout",
     "output_type": "stream",
     "text": [
      "Training...\n",
      "Epoch  1, CIFAR-10 Batch 1:  training_loss: 2.1965718269348145, validation_accuracy: 0.23499999940395355\n",
      "Epoch  1, CIFAR-10 Batch 2:  training_loss: 2.0807433128356934, validation_accuracy: 0.2750000059604645\n",
      "Epoch  1, CIFAR-10 Batch 3:  training_loss: 1.765503168106079, validation_accuracy: 0.2718000113964081\n",
      "Epoch  1, CIFAR-10 Batch 4:  training_loss: 1.8451435565948486, validation_accuracy: 0.29660001397132874\n",
      "Epoch  1, CIFAR-10 Batch 5:  training_loss: 2.074566602706909, validation_accuracy: 0.3179999887943268\n",
      "Epoch  2, CIFAR-10 Batch 1:  training_loss: 2.0041110515594482, validation_accuracy: 0.35179999470710754\n",
      "Epoch  2, CIFAR-10 Batch 2:  training_loss: 1.7396361827850342, validation_accuracy: 0.39500001072883606\n",
      "Epoch  2, CIFAR-10 Batch 3:  training_loss: 1.4567004442214966, validation_accuracy: 0.3905999958515167\n",
      "Epoch  2, CIFAR-10 Batch 4:  training_loss: 1.624924898147583, validation_accuracy: 0.41260001063346863\n",
      "Epoch  2, CIFAR-10 Batch 5:  training_loss: 1.755438208580017, validation_accuracy: 0.4251999855041504\n",
      "Epoch  3, CIFAR-10 Batch 1:  training_loss: 1.747108817100525, validation_accuracy: 0.44359999895095825\n",
      "Epoch  3, CIFAR-10 Batch 2:  training_loss: 1.649306297302246, validation_accuracy: 0.4535999894142151\n",
      "Epoch  3, CIFAR-10 Batch 3:  training_loss: 1.2433063983917236, validation_accuracy: 0.444599986076355\n",
      "Epoch  3, CIFAR-10 Batch 4:  training_loss: 1.5498015880584717, validation_accuracy: 0.4765999913215637\n",
      "Epoch  3, CIFAR-10 Batch 5:  training_loss: 1.5622665882110596, validation_accuracy: 0.48539999127388\n",
      "Epoch  4, CIFAR-10 Batch 1:  training_loss: 1.5047231912612915, validation_accuracy: 0.48100000619888306\n",
      "Epoch  4, CIFAR-10 Batch 2:  training_loss: 1.4750652313232422, validation_accuracy: 0.4941999912261963\n",
      "Epoch  4, CIFAR-10 Batch 3:  training_loss: 1.157370686531067, validation_accuracy: 0.47999998927116394\n",
      "Epoch  4, CIFAR-10 Batch 4:  training_loss: 1.3913040161132812, validation_accuracy: 0.5055999755859375\n",
      "Epoch  4, CIFAR-10 Batch 5:  training_loss: 1.436633825302124, validation_accuracy: 0.5228000283241272\n",
      "Epoch  5, CIFAR-10 Batch 1:  training_loss: 1.3547298908233643, validation_accuracy: 0.5220000147819519\n",
      "Epoch  5, CIFAR-10 Batch 2:  training_loss: 1.3424453735351562, validation_accuracy: 0.5293999910354614\n",
      "Epoch  5, CIFAR-10 Batch 3:  training_loss: 1.0610291957855225, validation_accuracy: 0.52920001745224\n",
      "Epoch  5, CIFAR-10 Batch 4:  training_loss: 1.3037303686141968, validation_accuracy: 0.5422000288963318\n",
      "Epoch  5, CIFAR-10 Batch 5:  training_loss: 1.340904951095581, validation_accuracy: 0.5407999753952026\n",
      "Epoch  6, CIFAR-10 Batch 1:  training_loss: 1.253480315208435, validation_accuracy: 0.5483999848365784\n",
      "Epoch  6, CIFAR-10 Batch 2:  training_loss: 1.2673046588897705, validation_accuracy: 0.5604000091552734\n",
      "Epoch  6, CIFAR-10 Batch 3:  training_loss: 1.0113314390182495, validation_accuracy: 0.5508000254631042\n",
      "Epoch  6, CIFAR-10 Batch 4:  training_loss: 1.2244049310684204, validation_accuracy: 0.5630000233650208\n",
      "Epoch  6, CIFAR-10 Batch 5:  training_loss: 1.1993682384490967, validation_accuracy: 0.5730000138282776\n",
      "Epoch  7, CIFAR-10 Batch 1:  training_loss: 1.1475218534469604, validation_accuracy: 0.5685999989509583\n",
      "Epoch  7, CIFAR-10 Batch 2:  training_loss: 1.23688805103302, validation_accuracy: 0.5861999988555908\n",
      "Epoch  7, CIFAR-10 Batch 3:  training_loss: 0.9520788192749023, validation_accuracy: 0.5807999968528748\n",
      "Epoch  7, CIFAR-10 Batch 4:  training_loss: 1.1267677545547485, validation_accuracy: 0.5860000252723694\n",
      "Epoch  7, CIFAR-10 Batch 5:  training_loss: 1.0749397277832031, validation_accuracy: 0.5932000279426575\n",
      "Epoch  8, CIFAR-10 Batch 1:  training_loss: 1.0202410221099854, validation_accuracy: 0.6019999980926514\n",
      "Epoch  8, CIFAR-10 Batch 2:  training_loss: 1.1457980871200562, validation_accuracy: 0.6033999919891357\n",
      "Epoch  8, CIFAR-10 Batch 3:  training_loss: 0.9003627896308899, validation_accuracy: 0.5997999906539917\n",
      "Epoch  8, CIFAR-10 Batch 4:  training_loss: 1.0341718196868896, validation_accuracy: 0.6057999730110168\n",
      "Epoch  8, CIFAR-10 Batch 5:  training_loss: 0.9789193868637085, validation_accuracy: 0.6122000217437744\n",
      "Epoch  9, CIFAR-10 Batch 1:  training_loss: 0.9338454008102417, validation_accuracy: 0.621999979019165\n",
      "Epoch  9, CIFAR-10 Batch 2:  training_loss: 1.0985454320907593, validation_accuracy: 0.6305999755859375\n",
      "Epoch  9, CIFAR-10 Batch 3:  training_loss: 0.8573171496391296, validation_accuracy: 0.6164000034332275\n",
      "Epoch  9, CIFAR-10 Batch 4:  training_loss: 0.9846261739730835, validation_accuracy: 0.6326000094413757\n",
      "Epoch  9, CIFAR-10 Batch 5:  training_loss: 0.9022209048271179, validation_accuracy: 0.6276000142097473\n",
      "Epoch 10, CIFAR-10 Batch 1:  training_loss: 0.899278461933136, validation_accuracy: 0.6326000094413757\n",
      "Epoch 10, CIFAR-10 Batch 2:  training_loss: 1.0344239473342896, validation_accuracy: 0.6394000053405762\n",
      "Epoch 10, CIFAR-10 Batch 3:  training_loss: 0.7399656176567078, validation_accuracy: 0.646399974822998\n",
      "Epoch 10, CIFAR-10 Batch 4:  training_loss: 0.9595909118652344, validation_accuracy: 0.6330000162124634\n",
      "Epoch 10, CIFAR-10 Batch 5:  training_loss: 0.8164293169975281, validation_accuracy: 0.6395999789237976\n",
      "Epoch 11, CIFAR-10 Batch 1:  training_loss: 0.883012592792511, validation_accuracy: 0.6403999924659729\n",
      "Epoch 11, CIFAR-10 Batch 2:  training_loss: 0.9793624877929688, validation_accuracy: 0.6528000235557556\n",
      "Epoch 11, CIFAR-10 Batch 3:  training_loss: 0.6859915852546692, validation_accuracy: 0.642799973487854\n",
      "Epoch 11, CIFAR-10 Batch 4:  training_loss: 0.8623985052108765, validation_accuracy: 0.6521999835968018\n",
      "Epoch 11, CIFAR-10 Batch 5:  training_loss: 0.8185659646987915, validation_accuracy: 0.6388000249862671\n",
      "Epoch 12, CIFAR-10 Batch 1:  training_loss: 0.7959564328193665, validation_accuracy: 0.6656000018119812\n",
      "Epoch 12, CIFAR-10 Batch 2:  training_loss: 0.9075935482978821, validation_accuracy: 0.6593999862670898\n",
      "Epoch 12, CIFAR-10 Batch 3:  training_loss: 0.6195150017738342, validation_accuracy: 0.6575999855995178\n",
      "Epoch 12, CIFAR-10 Batch 4:  training_loss: 0.8301336169242859, validation_accuracy: 0.6632000207901001\n",
      "Epoch 12, CIFAR-10 Batch 5:  training_loss: 0.7444847822189331, validation_accuracy: 0.6502000093460083\n",
      "Epoch 13, CIFAR-10 Batch 1:  training_loss: 0.7480659484863281, validation_accuracy: 0.6621999740600586\n",
      "Epoch 13, CIFAR-10 Batch 2:  training_loss: 0.8514289855957031, validation_accuracy: 0.6776000261306763\n",
      "Epoch 13, CIFAR-10 Batch 3:  training_loss: 0.57513827085495, validation_accuracy: 0.6758000254631042\n",
      "Epoch 13, CIFAR-10 Batch 4:  training_loss: 0.7960022687911987, validation_accuracy: 0.6674000024795532\n",
      "Epoch 13, CIFAR-10 Batch 5:  training_loss: 0.7037346363067627, validation_accuracy: 0.6741999983787537\n",
      "Epoch 14, CIFAR-10 Batch 1:  training_loss: 0.7080174684524536, validation_accuracy: 0.6812000274658203\n",
      "Epoch 14, CIFAR-10 Batch 2:  training_loss: 0.7457441687583923, validation_accuracy: 0.6880000233650208\n",
      "Epoch 14, CIFAR-10 Batch 3:  training_loss: 0.5839663147926331, validation_accuracy: 0.6629999876022339\n",
      "Epoch 14, CIFAR-10 Batch 4:  training_loss: 0.7011156678199768, validation_accuracy: 0.6833999752998352\n",
      "Epoch 14, CIFAR-10 Batch 5:  training_loss: 0.6578203439712524, validation_accuracy: 0.6772000193595886\n",
      "Epoch 15, CIFAR-10 Batch 1:  training_loss: 0.6647095680236816, validation_accuracy: 0.6845999956130981\n",
      "Epoch 15, CIFAR-10 Batch 2:  training_loss: 0.7593089938163757, validation_accuracy: 0.6916000247001648\n",
      "Epoch 15, CIFAR-10 Batch 3:  training_loss: 0.5375308990478516, validation_accuracy: 0.6675999760627747\n",
      "Epoch 15, CIFAR-10 Batch 4:  training_loss: 0.7108669281005859, validation_accuracy: 0.6917999982833862\n",
      "Epoch 15, CIFAR-10 Batch 5:  training_loss: 0.6595823168754578, validation_accuracy: 0.6827999949455261\n",
      "Epoch 16, CIFAR-10 Batch 1:  training_loss: 0.6549703478813171, validation_accuracy: 0.6973999738693237\n",
      "Epoch 16, CIFAR-10 Batch 2:  training_loss: 0.7220695614814758, validation_accuracy: 0.6909999847412109\n",
      "Epoch 16, CIFAR-10 Batch 3:  training_loss: 0.49273401498794556, validation_accuracy: 0.6841999888420105\n"
     ]
    },
    {
     "name": "stdout",
     "output_type": "stream",
     "text": [
      "Epoch 16, CIFAR-10 Batch 4:  training_loss: 0.714103102684021, validation_accuracy: 0.6977999806404114\n",
      "Epoch 16, CIFAR-10 Batch 5:  training_loss: 0.6599279642105103, validation_accuracy: 0.6883999705314636\n",
      "Epoch 17, CIFAR-10 Batch 1:  training_loss: 0.6237651109695435, validation_accuracy: 0.6962000131607056\n",
      "Epoch 17, CIFAR-10 Batch 2:  training_loss: 0.6857987642288208, validation_accuracy: 0.7071999907493591\n",
      "Epoch 17, CIFAR-10 Batch 3:  training_loss: 0.49008283019065857, validation_accuracy: 0.6944000124931335\n",
      "Epoch 17, CIFAR-10 Batch 4:  training_loss: 0.608099639415741, validation_accuracy: 0.7057999968528748\n",
      "Epoch 17, CIFAR-10 Batch 5:  training_loss: 0.6248809099197388, validation_accuracy: 0.6931999921798706\n",
      "Epoch 18, CIFAR-10 Batch 1:  training_loss: 0.5813537836074829, validation_accuracy: 0.7062000036239624\n",
      "Epoch 18, CIFAR-10 Batch 2:  training_loss: 0.6133406758308411, validation_accuracy: 0.7095999717712402\n",
      "Epoch 18, CIFAR-10 Batch 3:  training_loss: 0.4415920376777649, validation_accuracy: 0.7027999758720398\n",
      "Epoch 18, CIFAR-10 Batch 4:  training_loss: 0.5846236944198608, validation_accuracy: 0.7131999731063843\n",
      "Epoch 18, CIFAR-10 Batch 5:  training_loss: 0.5998890995979309, validation_accuracy: 0.6899999976158142\n",
      "Epoch 19, CIFAR-10 Batch 1:  training_loss: 0.5610415935516357, validation_accuracy: 0.7170000076293945\n",
      "Epoch 19, CIFAR-10 Batch 2:  training_loss: 0.6066854000091553, validation_accuracy: 0.7143999934196472\n",
      "Epoch 19, CIFAR-10 Batch 3:  training_loss: 0.47043877840042114, validation_accuracy: 0.6988000273704529\n",
      "Epoch 19, CIFAR-10 Batch 4:  training_loss: 0.5591174364089966, validation_accuracy: 0.7110000252723694\n",
      "Epoch 19, CIFAR-10 Batch 5:  training_loss: 0.5353699922561646, validation_accuracy: 0.7120000123977661\n",
      "Epoch 20, CIFAR-10 Batch 1:  training_loss: 0.551848292350769, validation_accuracy: 0.7131999731063843\n",
      "Epoch 20, CIFAR-10 Batch 2:  training_loss: 0.5876078605651855, validation_accuracy: 0.7139999866485596\n",
      "Epoch 20, CIFAR-10 Batch 3:  training_loss: 0.40739554166793823, validation_accuracy: 0.7089999914169312\n",
      "Epoch 20, CIFAR-10 Batch 4:  training_loss: 0.5365151166915894, validation_accuracy: 0.7211999893188477\n",
      "Epoch 20, CIFAR-10 Batch 5:  training_loss: 0.5501571297645569, validation_accuracy: 0.7131999731063843\n"
     ]
    }
   ],
   "source": [
    "\"\"\"\n",
    "DON'T MODIFY ANYTHING IN THIS CELL\n",
    "\"\"\"\n",
    "save_model_path = './image_classification'\n",
    "\n",
    "print('Training...')\n",
    "with tf.Session() as sess:\n",
    "    # Initializing the variables\n",
    "    sess.run(tf.global_variables_initializer())\n",
    "    \n",
    "    # Training cycle\n",
    "    for epoch in range(epochs):\n",
    "        # Loop over all batches\n",
    "        n_batches = 5\n",
    "        for batch_i in range(1, n_batches + 1):\n",
    "            for batch_features, batch_labels in helper.load_preprocess_training_batch(batch_i, batch_size):\n",
    "                train_neural_network(sess, optimizer, keep_probability, batch_features, batch_labels)\n",
    "            print('Epoch {:>2}, CIFAR-10 Batch {}:  '.format(epoch + 1, batch_i), end='')\n",
    "            print_stats(sess, batch_features, batch_labels, cost, accuracy)\n",
    "            \n",
    "    # Save Model\n",
    "    saver = tf.train.Saver()\n",
    "    save_path = saver.save(sess, save_model_path)"
   ]
  },
  {
   "cell_type": "markdown",
   "metadata": {},
   "source": [
    "# Checkpoint\n",
    "The model has been saved to disk.\n",
    "## Test Model\n",
    "Test your model against the test dataset.  This will be your final accuracy. You should have an accuracy greater than 50%. If you don't, keep tweaking the model architecture and parameters."
   ]
  },
  {
   "cell_type": "code",
   "execution_count": 22,
   "metadata": {},
   "outputs": [
    {
     "name": "stdout",
     "output_type": "stream",
     "text": [
      "INFO:tensorflow:Restoring parameters from ./image_classification\n",
      "Testing Accuracy: 0.6992681962025317\n",
      "\n"
     ]
    },
    {
     "data": {
      "image/png": "[encoded data removed]",
      "text/plain": [
       "<matplotlib.figure.Figure at 0x14365182828>"
      ]
     },
     "metadata": {
      "image/png": {
       "height": 319,
       "width": 355
      }
     },
     "output_type": "display_data"
    }
   ],
   "source": [
    "\"\"\"\n",
    "DON'T MODIFY ANYTHING IN THIS CELL\n",
    "\"\"\"\n",
    "%matplotlib inline\n",
    "%config InlineBackend.figure_format = 'retina'\n",
    "\n",
    "import tensorflow as tf\n",
    "import pickle\n",
    "import helper\n",
    "import random\n",
    "\n",
    "# Set batch size if not already set\n",
    "try:\n",
    "    if batch_size:\n",
    "        pass\n",
    "except NameError:\n",
    "    batch_size = 64\n",
    "\n",
    "save_model_path = './image_classification'\n",
    "n_samples = 4\n",
    "top_n_predictions = 3\n",
    "\n",
    "def test_model():\n",
    "    \"\"\"\n",
    "    Test the saved model against the test dataset\n",
    "    \"\"\"\n",
    "\n",
    "    test_features, test_labels = pickle.load(open('preprocess_test.p', mode='rb'))\n",
    "    loaded_graph = tf.Graph()\n",
    "\n",
    "    with tf.Session(graph=loaded_graph) as sess:\n",
    "        # Load model\n",
    "        loader = tf.train.import_meta_graph(save_model_path + '.meta')\n",
    "        loader.restore(sess, save_model_path)\n",
    "\n",
    "        # Get Tensors from loaded model\n",
    "        loaded_x = loaded_graph.get_tensor_by_name('x:0')\n",
    "        loaded_y = loaded_graph.get_tensor_by_name('y:0')\n",
    "        loaded_keep_prob = loaded_graph.get_tensor_by_name('keep_prob:0')\n",
    "        loaded_logits = loaded_graph.get_tensor_by_name('logits:0')\n",
    "        loaded_acc = loaded_graph.get_tensor_by_name('accuracy:0')\n",
    "        \n",
    "        # Get accuracy in batches for memory limitations\n",
    "        test_batch_acc_total = 0\n",
    "        test_batch_count = 0\n",
    "        \n",
    "        for test_feature_batch, test_label_batch in helper.batch_features_labels(test_features, test_labels, batch_size):\n",
    "            test_batch_acc_total += sess.run(\n",
    "                loaded_acc,\n",
    "                feed_dict={loaded_x: test_feature_batch, loaded_y: test_label_batch, loaded_keep_prob: 1.0})\n",
    "            test_batch_count += 1\n",
    "\n",
    "        print('Testing Accuracy: {}\\n'.format(test_batch_acc_total/test_batch_count))\n",
    "\n",
    "        # Print Random Samples\n",
    "        random_test_features, random_test_labels = tuple(zip(*random.sample(list(zip(test_features, test_labels)), n_samples)))\n",
    "        random_test_predictions = sess.run(\n",
    "            tf.nn.top_k(tf.nn.softmax(loaded_logits), top_n_predictions),\n",
    "            feed_dict={loaded_x: random_test_features, loaded_y: random_test_labels, loaded_keep_prob: 1.0})\n",
    "        helper.display_image_predictions(random_test_features, random_test_labels, random_test_predictions)\n",
    "\n",
    "\n",
    "test_model()"
   ]
  },
  {
   "cell_type": "markdown",
   "metadata": {},
   "source": [
    "## Why 50-80% Accuracy?\n",
    "You might be wondering why you can't get an accuracy any higher. First things first, 50% isn't bad for a simple CNN.  Pure guessing would get you 10% accuracy. However, you might notice people are getting scores [well above 80%](http://rodrigob.github.io/are_we_there_yet/build/classification_datasets_results.html#43494641522d3130).  That's because we haven't taught you all there is to know about neural networks. We still need to cover a few more techniques.\n",
    "## Submitting This Project\n",
    "When submitting this project, make sure to run all the cells before saving the notebook.  Save the notebook file as \"dlnd_image_classification.ipynb\" and save it as a HTML file under \"File\" -> \"Download as\".  Include the \"helper.py\" and \"problem_unittests.py\" files in your submission."
   ]
  }
 ],
 "metadata": {
  "kernelspec": {
   "display_name": "Python 3",
   "language": "python",
   "name": "python3"
  },
  "language_info": {
   "codemirror_mode": {
    "name": "ipython",
    "version": 3
   },
   "file_extension": ".py",
   "mimetype": "text/x-python",
   "name": "python",
   "nbconvert_exporter": "python",
   "pygments_lexer": "ipython3",
   "version": "3.5.3"
  }
 },
 "nbformat": 4,
 "nbformat_minor": 1
}
